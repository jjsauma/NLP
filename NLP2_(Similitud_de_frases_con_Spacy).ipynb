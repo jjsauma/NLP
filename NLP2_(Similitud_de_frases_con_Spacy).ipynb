{
  "nbformat": 4,
  "nbformat_minor": 0,
  "metadata": {
    "colab": {
      "name": "NLP2 (Similitud de frases con Spacy)",
      "provenance": [],
      "collapsed_sections": []
    },
    "kernelspec": {
      "name": "python3",
      "display_name": "Python 3"
    }
  },
  "cells": [
    {
      "cell_type": "markdown",
      "metadata": {
        "id": "cc6G0j7fYCFc",
        "colab_type": "text"
      },
      "source": [
        "# **Text Similarity**\n",
        "\n",
        "Similitud es un proceso para comprobar el parecido en el contenido de textos. \n",
        "\n",
        "*E`n pruebas realizadas con librerías en español, encontramos que los resultados no son muy satisfactorios`.*"
      ]
    },
    {
      "cell_type": "code",
      "metadata": {
        "id": "8qLiZp-U5NtR",
        "colab_type": "code",
        "outputId": "7cb184b0-3f06-43af-aed2-f256920dc36d",
        "colab": {
          "base_uri": "https://localhost:8080/",
          "height": 318
        }
      },
      "source": [
        "#@title <-- 1. Presiona este botón para instalar librerias {display-mode: \"form\"}\n",
        "\n",
        "!pip install -U spacy\n",
        "#!python -m spacy download es_ent_wiki_sm\n",
        "\n",
        "import spacy\n",
        "#nlp = spacy.load('es_core_news_sm')\n",
        "\n",
        "import es_core_news_md\n",
        "nlp = es_core_news_md.load()"
      ],
      "execution_count": 0,
      "outputs": [
        {
          "output_type": "stream",
          "text": [
            "Requirement already up-to-date: spacy in /usr/local/lib/python3.6/dist-packages (2.1.8)\n",
            "Requirement already satisfied, skipping upgrade: thinc<7.1.0,>=7.0.8 in /usr/local/lib/python3.6/dist-packages (from spacy) (7.0.8)\n",
            "Requirement already satisfied, skipping upgrade: murmurhash<1.1.0,>=0.28.0 in /usr/local/lib/python3.6/dist-packages (from spacy) (1.0.2)\n",
            "Requirement already satisfied, skipping upgrade: requests<3.0.0,>=2.13.0 in /usr/local/lib/python3.6/dist-packages (from spacy) (2.21.0)\n",
            "Requirement already satisfied, skipping upgrade: wasabi<1.1.0,>=0.2.0 in /usr/local/lib/python3.6/dist-packages (from spacy) (0.2.2)\n",
            "Requirement already satisfied, skipping upgrade: blis<0.3.0,>=0.2.2 in /usr/local/lib/python3.6/dist-packages (from spacy) (0.2.4)\n",
            "Requirement already satisfied, skipping upgrade: numpy>=1.15.0 in /usr/local/lib/python3.6/dist-packages (from spacy) (1.16.4)\n",
            "Requirement already satisfied, skipping upgrade: preshed<2.1.0,>=2.0.1 in /usr/local/lib/python3.6/dist-packages (from spacy) (2.0.1)\n",
            "Requirement already satisfied, skipping upgrade: cymem<2.1.0,>=2.0.2 in /usr/local/lib/python3.6/dist-packages (from spacy) (2.0.2)\n",
            "Requirement already satisfied, skipping upgrade: srsly<1.1.0,>=0.0.6 in /usr/local/lib/python3.6/dist-packages (from spacy) (0.0.7)\n",
            "Requirement already satisfied, skipping upgrade: plac<1.0.0,>=0.9.6 in /usr/local/lib/python3.6/dist-packages (from spacy) (0.9.6)\n",
            "Requirement already satisfied, skipping upgrade: tqdm<5.0.0,>=4.10.0 in /usr/local/lib/python3.6/dist-packages (from thinc<7.1.0,>=7.0.8->spacy) (4.28.1)\n",
            "Requirement already satisfied, skipping upgrade: chardet<3.1.0,>=3.0.2 in /usr/local/lib/python3.6/dist-packages (from requests<3.0.0,>=2.13.0->spacy) (3.0.4)\n",
            "Requirement already satisfied, skipping upgrade: idna<2.9,>=2.5 in /usr/local/lib/python3.6/dist-packages (from requests<3.0.0,>=2.13.0->spacy) (2.8)\n",
            "Requirement already satisfied, skipping upgrade: urllib3<1.25,>=1.21.1 in /usr/local/lib/python3.6/dist-packages (from requests<3.0.0,>=2.13.0->spacy) (1.24.3)\n",
            "Requirement already satisfied, skipping upgrade: certifi>=2017.4.17 in /usr/local/lib/python3.6/dist-packages (from requests<3.0.0,>=2.13.0->spacy) (2019.6.16)\n"
          ],
          "name": "stdout"
        }
      ]
    },
    {
      "cell_type": "markdown",
      "metadata": {
        "id": "jLMjRgPyGY7C",
        "colab_type": "text"
      },
      "source": [
        "# _"
      ]
    },
    {
      "cell_type": "code",
      "metadata": {
        "id": "Ht3H35DzXJ28",
        "colab_type": "code",
        "outputId": "c42efc15-7b94-4129-ad31-dbb16f5240c1",
        "colab": {
          "base_uri": "https://localhost:8080/",
          "height": 34
        }
      },
      "source": [
        "#@title <-- 2. Presiona este botón para calcular {display-mode: \"form\"}\n",
        "\n",
        "Texto1 = \"Las autopistas Siglo XXI o la Durango-Mazatl\\xE1n se convirtieron en las grandes obras de infraestructura de los pasados sexenios. La administraci\\xF3n de Andr\\xE9s Manuel L\\xF3pez Obrador ha roto con esta tradici\\xF3n de tener un megaproyecto carretero en la estrategia de obra p\\xFAblica, para concentrarse en proyectos de energ\\xEDa y movilidad con la construcci\\xF3n de la Refiner\\xEDa de Dos Bocas, el Tren Maya y el aeropuerto de Santa Luc\\xEDa.  Los esfuerzos se han volcado en la conservaci\\xF3n del activo carretero existente, que tiene resultados m\\xE1s r\\xE1pidos en comparaci\\xF3n con los proyectos que inician desde cero y que requieren una planeaci\\xF3n a largo plazo. \" #@param {type:\"string\"}\n",
        "Texto2 = \"La inclusi\\xF3n financiera en M\\xE9xico que el actual gobierno quiere desarrollar en el pa\\xEDs tendr\\xE1 como objetivo llevar los servicios financieros a m\\xE1s personas. Este es el escenario actual de la banca en el pa\\xEDs. PUBLICIDAD  Banco Azteca es el l\\xEDder por n\\xFAmero de sucursales en el pa\\xEDs, caracter\\xEDstica que ha hecho notar como una fortaleza para asegurar que las transferencias de recursos de los programas sociales como 'J\\xF3venes Construyendo el Futuro' se cobren sin problemas . De acuerdo con las cifras m\\xE1s recientes, el segundo banco con m\\xE1s sucursales es BBVA, seguido de Citibanamex.\" #@param {type:\"string\"}\n",
        "\n",
        "# Determine semantic similarities\n",
        "doc1 = nlp(Texto1)\n",
        "doc2 = nlp(Texto2)\n",
        "similarity = doc1.similarity(doc2)\n",
        "print(similarity)"
      ],
      "execution_count": 0,
      "outputs": [
        {
          "output_type": "stream",
          "text": [
            "0.9917439454929494\n"
          ],
          "name": "stdout"
        }
      ]
    }
  ]
}