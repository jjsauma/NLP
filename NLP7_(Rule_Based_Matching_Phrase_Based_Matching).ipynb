{
  "nbformat": 4,
  "nbformat_minor": 0,
  "metadata": {
    "colab": {
      "name": "NLP7 (Rule-Based Matching / Phrase-Based Matching)",
      "provenance": [],
      "collapsed_sections": []
    },
    "kernelspec": {
      "name": "python3",
      "display_name": "Python 3"
    }
  },
  "cells": [
    {
      "cell_type": "markdown",
      "metadata": {
        "id": "Zv-oQQpSc-t3",
        "colab_type": "text"
      },
      "source": [
        "# Rule-Based Matching / Phrase-Based Matching\n",
        "\n",
        "En este notebook definimos términos de búsqueda para encontrar términos basados en reglas o frases completas usando SpaCy.\n",
        "\n",
        "Tutorial: https://stackabuse.com/python-for-nlp-vocabulary-and-phrase-matching-with-spacy/"
      ]
    },
    {
      "cell_type": "code",
      "metadata": {
        "id": "a3MZwajGOLSo",
        "colab_type": "code",
        "outputId": "9d4ad516-686f-4113-9f5f-e7a1a32ad2b9",
        "colab": {
          "base_uri": "https://localhost:8080/",
          "height": 897
        }
      },
      "source": [
        "# Installs \n",
        "\n",
        "!pip3 install spacy\n",
        "!python -m spacy download es_core_news_md"
      ],
      "execution_count": 0,
      "outputs": [
        {
          "output_type": "stream",
          "text": [
            "Requirement already satisfied: spacy in /usr/local/lib/python3.6/dist-packages (2.0.18)\n",
            "Requirement already satisfied: requests<3.0.0,>=2.13.0 in /usr/local/lib/python3.6/dist-packages (from spacy) (2.18.4)\n",
            "Collecting numpy>=1.15.0 (from spacy)\n",
            "\u001b[?25l  Downloading https://files.pythonhosted.org/packages/35/d5/4f8410ac303e690144f0a0603c4b8fd3b986feb2749c435f7cdbb288f17e/numpy-1.16.2-cp36-cp36m-manylinux1_x86_64.whl (17.3MB)\n",
            "\u001b[K    100% |████████████████████████████████| 17.3MB 1.7MB/s \n",
            "\u001b[?25hRequirement already satisfied: ujson>=1.35 in /usr/local/lib/python3.6/dist-packages (from spacy) (1.35)\n",
            "Requirement already satisfied: regex==2018.01.10 in /usr/local/lib/python3.6/dist-packages (from spacy) (2018.1.10)\n",
            "Requirement already satisfied: plac<1.0.0,>=0.9.6 in /usr/local/lib/python3.6/dist-packages (from spacy) (0.9.6)\n",
            "Requirement already satisfied: preshed<2.1.0,>=2.0.1 in /usr/local/lib/python3.6/dist-packages (from spacy) (2.0.1)\n",
            "Requirement already satisfied: dill<0.3,>=0.2 in /usr/local/lib/python3.6/dist-packages (from spacy) (0.2.9)\n",
            "Requirement already satisfied: murmurhash<1.1.0,>=0.28.0 in /usr/local/lib/python3.6/dist-packages (from spacy) (1.0.2)\n",
            "Requirement already satisfied: cymem<2.1.0,>=2.0.2 in /usr/local/lib/python3.6/dist-packages (from spacy) (2.0.2)\n",
            "Requirement already satisfied: thinc<6.13.0,>=6.12.1 in /usr/local/lib/python3.6/dist-packages (from spacy) (6.12.1)\n",
            "Requirement already satisfied: urllib3<1.23,>=1.21.1 in /usr/local/lib/python3.6/dist-packages (from requests<3.0.0,>=2.13.0->spacy) (1.22)\n",
            "Requirement already satisfied: chardet<3.1.0,>=3.0.2 in /usr/local/lib/python3.6/dist-packages (from requests<3.0.0,>=2.13.0->spacy) (3.0.4)\n",
            "Requirement already satisfied: certifi>=2017.4.17 in /usr/local/lib/python3.6/dist-packages (from requests<3.0.0,>=2.13.0->spacy) (2019.3.9)\n",
            "Requirement already satisfied: idna<2.7,>=2.5 in /usr/local/lib/python3.6/dist-packages (from requests<3.0.0,>=2.13.0->spacy) (2.6)\n",
            "Requirement already satisfied: msgpack-numpy<0.4.4 in /usr/local/lib/python3.6/dist-packages (from thinc<6.13.0,>=6.12.1->spacy) (0.4.3.2)\n",
            "Requirement already satisfied: msgpack<0.6.0,>=0.5.6 in /usr/local/lib/python3.6/dist-packages (from thinc<6.13.0,>=6.12.1->spacy) (0.5.6)\n",
            "Requirement already satisfied: tqdm<5.0.0,>=4.10.0 in /usr/local/lib/python3.6/dist-packages (from thinc<6.13.0,>=6.12.1->spacy) (4.28.1)\n",
            "Requirement already satisfied: six<2.0.0,>=1.10.0 in /usr/local/lib/python3.6/dist-packages (from thinc<6.13.0,>=6.12.1->spacy) (1.11.0)\n",
            "Requirement already satisfied: cytoolz<0.10,>=0.9.0 in /usr/local/lib/python3.6/dist-packages (from thinc<6.13.0,>=6.12.1->spacy) (0.9.0.1)\n",
            "Requirement already satisfied: wrapt<1.11.0,>=1.10.0 in /usr/local/lib/python3.6/dist-packages (from thinc<6.13.0,>=6.12.1->spacy) (1.10.11)\n",
            "Requirement already satisfied: toolz>=0.8.0 in /usr/local/lib/python3.6/dist-packages (from cytoolz<0.10,>=0.9.0->thinc<6.13.0,>=6.12.1->spacy) (0.9.0)\n",
            "\u001b[31mfeaturetools 0.4.1 has requirement pandas>=0.23.0, but you'll have pandas 0.22.0 which is incompatible.\u001b[0m\n",
            "\u001b[31mdatascience 0.10.6 has requirement folium==0.2.1, but you'll have folium 0.8.3 which is incompatible.\u001b[0m\n",
            "\u001b[31malbumentations 0.1.12 has requirement imgaug<0.2.7,>=0.2.5, but you'll have imgaug 0.2.8 which is incompatible.\u001b[0m\n",
            "Installing collected packages: numpy\n",
            "  Found existing installation: numpy 1.14.6\n",
            "    Uninstalling numpy-1.14.6:\n",
            "      Successfully uninstalled numpy-1.14.6\n",
            "Successfully installed numpy-1.16.2\n"
          ],
          "name": "stdout"
        },
        {
          "output_type": "display_data",
          "data": {
            "application/vnd.colab-display-data+json": {
              "pip_warning": {
                "packages": [
                  "numpy"
                ]
              }
            }
          },
          "metadata": {
            "tags": []
          }
        },
        {
          "output_type": "stream",
          "text": [
            "Collecting es_core_news_md==2.0.0 from https://github.com/explosion/spacy-models/releases/download/es_core_news_md-2.0.0/es_core_news_md-2.0.0.tar.gz#egg=es_core_news_md==2.0.0\n",
            "\u001b[?25l  Downloading https://github.com/explosion/spacy-models/releases/download/es_core_news_md-2.0.0/es_core_news_md-2.0.0.tar.gz (98.5MB)\n",
            "\u001b[K    100% |████████████████████████████████| 98.5MB 100.3MB/s \n",
            "\u001b[?25hInstalling collected packages: es-core-news-md\n",
            "  Running setup.py install for es-core-news-md ... \u001b[?25ldone\n",
            "\u001b[?25hSuccessfully installed es-core-news-md-2.0.0\n",
            "\n",
            "\u001b[93m    Linking successful\u001b[0m\n",
            "    /usr/local/lib/python3.6/dist-packages/es_core_news_md -->\n",
            "    /usr/local/lib/python3.6/dist-packages/spacy/data/es_core_news_md\n",
            "\n",
            "    You can now load the model via spacy.load('es_core_news_md')\n",
            "\n"
          ],
          "name": "stdout"
        }
      ]
    },
    {
      "cell_type": "code",
      "metadata": {
        "id": "1JKe6pqQORX9",
        "colab_type": "code",
        "colab": {}
      },
      "source": [
        "# Imports\n",
        "\n",
        "import spacy\n"
      ],
      "execution_count": 0,
      "outputs": []
    },
    {
      "cell_type": "code",
      "metadata": {
        "id": "sGjSmHaYOXQ0",
        "colab_type": "code",
        "colab": {}
      },
      "source": [
        "# Initializations\n",
        "\n",
        "nlp = spacy.load('es_core_news_md')"
      ],
      "execution_count": 0,
      "outputs": []
    },
    {
      "cell_type": "code",
      "metadata": {
        "id": "c-0e2-0oO9JJ",
        "colab_type": "code",
        "colab": {}
      },
      "source": [
        "from spacy.matcher import Matcher # Palabras\n",
        "from spacy.matcher import PhraseMatcher # Frases"
      ],
      "execution_count": 0,
      "outputs": []
    },
    {
      "cell_type": "markdown",
      "metadata": {
        "id": "Iod1ycOYdJQn",
        "colab_type": "text"
      },
      "source": [
        "## Rule-Based Matching"
      ]
    },
    {
      "cell_type": "code",
      "metadata": {
        "id": "ZaTwwyhpfUKR",
        "colab_type": "code",
        "outputId": "345dea8e-26d1-44db-da45-dac43dda5766",
        "colab": {
          "base_uri": "https://localhost:8080/",
          "height": 136
        }
      },
      "source": [
        "# Rule-Based Matching rules\n",
        "\n",
        "sentence = nlp(u'El término Latinoamérica engloba a los países del continente \\\n",
        "    americano donde se hablan las lenguas derivadas del latín (español, \\\n",
        "    portugués y francés). El significado de América Latina es el mismo \\\n",
        "    que de Latinoamérica. Iberoamérica incluye a los países de habla \\\n",
        "    hispana y portuguesa. Es decir países americanos donde se habla \\\n",
        "    español y portugués, en algunas ocasiones también se refiere a lo \\\n",
        "    relativo a España y Portugal. Su gentilicio es iberoamericano. \\\n",
        "    Iberoamérica no debe usarse para designar a los países de habla \\\n",
        "    española solamente, para ello debe usarse el término Hispanoamérica.')\n",
        "\n",
        "# find \"latino américa\", \"latinoamerica\" or \"américa latina\"\n",
        "lugar1 = [{'LOWER': 'latino'}, {'IS_PUNCT': True, 'OP':'*'}, {'LOWER': 'américa'}]\n",
        "lugar2 = [{'LOWER': 'latinoamerica'}]\n",
        "lugar3 = [{'LOWER': 'américa'}, {'IS_PUNCT': True, 'OP':'*'}, {'LOWER': 'latina'}]\n",
        "lugar4 = [{'LOWER': 'españa'}]\n",
        "lugar5 = [{'LOWER': 'portugal'}]\n",
        "idioma1 = [{'LOWER': 'español'}]\n",
        "idioma2 = [{'LOWER': 'portugués'}]\n",
        "\n",
        "\n",
        "rbMatcher = Matcher(nlp.vocab)  # Rule-based matcher\n",
        "rbMatcher.add('LUGAR', None, lugar1, lugar2, lugar3, lugar4, lugar5) \n",
        "rbMatcher.add('IDIOMA', None, idioma1, idioma2) \n",
        "\n",
        "matches = rbMatcher(sentence)  \n",
        "for match_id, start, end in matches:  \n",
        "    string_id = nlp.vocab.strings[match_id]  \n",
        "    span = sentence[start:end]                   \n",
        "    print(string_id, span.text)\n"
      ],
      "execution_count": 0,
      "outputs": [
        {
          "output_type": "stream",
          "text": [
            "IDIOMA español\n",
            "IDIOMA portugués\n",
            "LUGAR América Latina\n",
            "IDIOMA español\n",
            "IDIOMA portugués\n",
            "LUGAR España\n",
            "LUGAR Portugal\n"
          ],
          "name": "stdout"
        }
      ]
    },
    {
      "cell_type": "markdown",
      "metadata": {
        "id": "JiiQzYaAdSYK",
        "colab_type": "text"
      },
      "source": [
        "## Phrase-Based Matching"
      ]
    },
    {
      "cell_type": "code",
      "metadata": {
        "id": "QwB6_QeMO0fU",
        "colab_type": "code",
        "outputId": "a0f96628-916f-461c-d622-6333093a0054",
        "colab": {
          "base_uri": "https://localhost:8080/",
          "height": 119
        }
      },
      "source": [
        "sentence = nlp(u'Kandinsky es contratado como profesor de la Bauhaus en \\\n",
        "       1922 para dar una clase de pintura mural junto con su compañero \\\n",
        "       Paul Klee y Oskar Shlemmer. En la Bauhaus, Kandinsky dedica especial \\\n",
        "       atención a las correspondencias de color es y formas, y al estudio \\\n",
        "       de los elementos aislados.  Según su teoría, determinados colores \\\n",
        "       corresponden a determinadas formas; es decir, que determinados \\\n",
        "       colores intensifican su efecto mediante determinadas formas. \\\n",
        "       Para respaldar su tesis elabora un cuestionario que debe ser \\\n",
        "       rellenado por los alumnos del taller de pintura mural: las tres \\\n",
        "       formas geométricas básicas deben ser pintadas con los tres \\\n",
        "       colores primarios o con los colores que les parezcan adecuados. \\\n",
        "       La gran mayoría de los estudiantes atribuye el amarillo al \\\n",
        "       triangulo, el rojo al cuadrado y el azul al círculo, confirmando \\\n",
        "       así la teoría de Kandinsky. Esto sucede porque la percepción del \\\n",
        "       amarillo se refuerza mediante la combinación con una forma aguda \\\n",
        "       como los triángulos, y los colores que tienden a la profundidad, \\\n",
        "       como el azul, intensifican su efecto a través de las formas redondas. Wassily aplica este tipo de principios sobre la teoría del color durante todo el periodo en la Bauhaus.')\n",
        "\n",
        "colores = [nlp(text) for text in ('rojo', 'verde', 'amarillo', 'gris', 'negro')]\n",
        "personas = [nlp(text) for text in ('Paul Klee', 'Oskar Shlemmer', 'Kandinsky')]\n",
        "figuras = [nlp(text) for text in ('cuadrado', 'círculo')]\n",
        "\n",
        "pbMatcher = PhraseMatcher(nlp.vocab)\n",
        "pbMatcher.add('COLOR', None, *colores)\n",
        "pbMatcher.add('PERSONA', None, *personas)\n",
        "pbMatcher.add('FIGURA', None, *figuras)\n",
        "\n",
        "\n",
        "phrase_matches = pbMatcher(sentence)  \n",
        "for match_id, start, end in phrase_matches:  \n",
        "    string_id = nlp.vocab.strings[match_id]  \n",
        "    span = sentence[start:end]                   \n",
        "    print(string_id, span.text)"
      ],
      "execution_count": 0,
      "outputs": [
        {
          "output_type": "stream",
          "text": [
            "PERSONA Paul Klee\n",
            "COLOR amarillo\n",
            "COLOR rojo\n",
            "FIGURA cuadrado\n",
            "FIGURA círculo\n",
            "COLOR amarillo\n"
          ],
          "name": "stdout"
        }
      ]
    }
  ]
}